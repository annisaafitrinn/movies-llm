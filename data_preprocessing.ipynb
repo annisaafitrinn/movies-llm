{
 "cells": [
  {
   "cell_type": "code",
   "execution_count": 1,
   "metadata": {},
   "outputs": [
    {
     "name": "stdout",
     "output_type": "stream",
     "text": [
      "Combined dataset created with 368300 rows.\n"
     ]
    }
   ],
   "source": [
    "import pandas as pd\n",
    "import os\n",
    "\n",
    "# Folder where your CSV files are stored\n",
    "folder_path = 'movies/'\n",
    "\n",
    "# List to store all DataFrames\n",
    "all_dfs = []\n",
    "\n",
    "# Loop over all .csv files in the folder\n",
    "for filename in os.listdir(folder_path):\n",
    "    if filename.endswith(\".csv\"):\n",
    "        genre = filename.replace(\".csv\", \"\")  # Get genre from filename\n",
    "        file_path = os.path.join(folder_path, filename)\n",
    "        \n",
    "        df = pd.read_csv(file_path)\n",
    "        df['genre'] = genre  # Add genre column\n",
    "        all_dfs.append(df)\n",
    "\n",
    "# Concatenate all DataFrames\n",
    "combined_df = pd.concat(all_dfs, ignore_index=True)\n",
    "\n",
    "combined_df.to_csv('data/movies_combined.csv', index=False)\n",
    "\n",
    "print(f\"Combined dataset created with {len(combined_df)} rows.\")"
   ]
  }
 ],
 "metadata": {
  "kernelspec": {
   "display_name": "venv",
   "language": "python",
   "name": "python3"
  },
  "language_info": {
   "codemirror_mode": {
    "name": "ipython",
    "version": 3
   },
   "file_extension": ".py",
   "mimetype": "text/x-python",
   "name": "python",
   "nbconvert_exporter": "python",
   "pygments_lexer": "ipython3",
   "version": "3.12.5"
  },
  "orig_nbformat": 4
 },
 "nbformat": 4,
 "nbformat_minor": 2
}
